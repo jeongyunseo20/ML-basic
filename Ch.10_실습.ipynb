{
 "cells": [
  {
   "cell_type": "code",
   "execution_count": 1,
   "metadata": {},
   "outputs": [],
   "source": [
    "def f1(x):\n",
    "    return (x-2) **2 + 2"
   ]
  },
  {
   "cell_type": "code",
   "execution_count": 2,
   "metadata": {},
   "outputs": [
    {
     "name": "stdout",
     "output_type": "stream",
     "text": [
      "      fun: 2.0\n",
      " hess_inv: array([[0.5]])\n",
      "      jac: array([0.])\n",
      "  message: 'Optimization terminated successfully.'\n",
      "     nfev: 9\n",
      "      nit: 2\n",
      "     njev: 3\n",
      "   status: 0\n",
      "  success: True\n",
      "        x: array([1.99999999])\n"
     ]
    }
   ],
   "source": [
    "x0 = 0\n",
    "result = sp.optimize.minimize(f1, x0)\n",
    "print(result)"
   ]
  },
  {
   "cell_type": "code",
   "execution_count": 3,
   "metadata": {},
   "outputs": [],
   "source": [
    "def f1p(x):\n",
    "    \"\"\"f1(x)의 도함수\"\"\"\n",
    "    return 2 * (x-2)"
   ]
  },
  {
   "cell_type": "code",
   "execution_count": 4,
   "metadata": {},
   "outputs": [
    {
     "name": "stdout",
     "output_type": "stream",
     "text": [
      "      fun: 2.0\n",
      " hess_inv: array([[0.5]])\n",
      "      jac: array([0.])\n",
      "  message: 'Optimization terminated successfully.'\n",
      "     nfev: 3\n",
      "      nit: 2\n",
      "     njev: 3\n",
      "   status: 0\n",
      "  success: True\n",
      "        x: array([2.])\n"
     ]
    }
   ],
   "source": [
    "result = sp.optimize.minimize(f1, x0, jac = f1p)\n",
    "print(result)"
   ]
  },
  {
   "cell_type": "code",
   "execution_count": 5,
   "metadata": {},
   "outputs": [],
   "source": [
    "def f2(x):\n",
    "    return (1 - x[0])**2 + 100.0 * (x[1]- x[0]**2)**2"
   ]
  },
  {
   "cell_type": "code",
   "execution_count": 6,
   "metadata": {},
   "outputs": [],
   "source": [
    "x0 = (-2, -2)"
   ]
  },
  {
   "cell_type": "code",
   "execution_count": 7,
   "metadata": {},
   "outputs": [
    {
     "name": "stdout",
     "output_type": "stream",
     "text": [
      "      fun: 5.2112890141803265e-12\n",
      " hess_inv: array([[0.49938636, 0.99860874],\n",
      "       [0.99860874, 2.00187364]])\n",
      "      jac: array([ 7.32138760e-05, -3.35902622e-05])\n",
      "  message: 'Desired error not necessarily achieved due to precision loss.'\n",
      "     nfev: 536\n",
      "      nit: 55\n",
      "     njev: 131\n",
      "   status: 2\n",
      "  success: False\n",
      "        x: array([0.99999854, 0.9999969 ])\n"
     ]
    }
   ],
   "source": [
    "result = sp.optimize.minimize(f2, x0)\n",
    "print(result)"
   ]
  },
  {
   "cell_type": "code",
   "execution_count": 8,
   "metadata": {},
   "outputs": [],
   "source": [
    "x0_new = (2, 0.3)"
   ]
  },
  {
   "cell_type": "code",
   "execution_count": 9,
   "metadata": {},
   "outputs": [
    {
     "name": "stdout",
     "output_type": "stream",
     "text": [
      "      fun: 2.0894330936158977e-11\n",
      " hess_inv: array([[0.49022114, 0.98027054],\n",
      "       [0.98027054, 1.96519142]])\n",
      "      jac: array([ 1.58932767e-06, -8.86389917e-07])\n",
      "  message: 'Optimization terminated successfully.'\n",
      "     nfev: 100\n",
      "      nit: 18\n",
      "     njev: 25\n",
      "   status: 0\n",
      "  success: True\n",
      "        x: array([0.99999543, 0.99999085])\n"
     ]
    }
   ],
   "source": [
    "result = sp.optimize.minimize(f2, x0_new, jac = None)\n",
    "print(result)"
   ]
  },
  {
   "cell_type": "code",
   "execution_count": 10,
   "metadata": {},
   "outputs": [],
   "source": [
    "def f2g(x):\n",
    "    return np.array((2.0 * (x[0] - 1) - 400.0 * x[0] * (x[1] - x[0]**2), 200.0*(x[1]-x[0]**2)))"
   ]
  },
  {
   "cell_type": "code",
   "execution_count": 11,
   "metadata": {},
   "outputs": [
    {
     "name": "stdout",
     "output_type": "stream",
     "text": [
      "      fun: 1.0392866876869952e-14\n",
      " hess_inv: array([[0.49022342, 0.98027934],\n",
      "       [0.98027934, 1.96521752]])\n",
      "      jac: array([ 1.58870156e-06, -8.86163987e-07])\n",
      "  message: 'Optimization terminated successfully.'\n",
      "     nfev: 25\n",
      "      nit: 18\n",
      "     njev: 25\n",
      "   status: 0\n",
      "  success: True\n",
      "        x: array([0.99999991, 0.99999981])\n"
     ]
    }
   ],
   "source": [
    "result = sp.optimize.minimize(f2, x0_new, jac = f2g)\n",
    "print(result)"
   ]
  },
  {
   "cell_type": "code",
   "execution_count": null,
   "metadata": {},
   "outputs": [],
   "source": []
  },
  {
   "cell_type": "code",
   "execution_count": null,
   "metadata": {},
   "outputs": [],
   "source": []
  },
  {
   "cell_type": "code",
   "execution_count": null,
   "metadata": {},
   "outputs": [],
   "source": []
  }
 ],
 "metadata": {
  "kernelspec": {
   "display_name": "Python 3",
   "language": "python",
   "name": "python3"
  },
  "language_info": {
   "codemirror_mode": {
    "name": "ipython",
    "version": 3
   },
   "file_extension": ".py",
   "mimetype": "text/x-python",
   "name": "python",
   "nbconvert_exporter": "python",
   "pygments_lexer": "ipython3",
   "version": "3.7.6"
  }
 },
 "nbformat": 4,
 "nbformat_minor": 4
}
